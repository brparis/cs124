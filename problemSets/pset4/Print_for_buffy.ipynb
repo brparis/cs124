{
 "cells": [
  {
   "cell_type": "code",
   "execution_count": 353,
   "metadata": {
    "scrolled": true
   },
   "outputs": [
    {
     "name": "stdout",
     "output_type": "stream",
     "text": [
      "['Buffy', 'the', 'Vampire', 'Slayer', 'fans', 'are', 'sure', 'to', 'get', 'their', 'fix', 'with', 'the', 'DVD', 'release', 'of', 'the', \"show's\", 'first', 'season.', 'The', 'three-disc', 'collection', 'includes', 'all', '12', 'episodes', 'as', 'well', 'as', 'many', 'extras.', 'There', 'is', 'a', 'collection', 'of', 'interviews', 'by', 'the', \"show's\", 'creator', 'Joss', 'Whedon', 'in', 'which', 'he', 'explains', 'his', 'inspiration', 'for', 'the', 'show', 'as', 'well', 'as', 'comments', 'on', 'the', 'various', 'cast', 'members.', 'Much', 'of', 'the', 'same', 'material', 'is', 'covered', 'in', 'more', 'depth', 'with', \"Whedon's\", 'commentary', 'track', 'for', 'the', \"show's\", 'first', 'two', 'episodes', 'that', 'make', 'up', 'the', 'Buffy', 'the', 'Vampire', 'Slayer', 'pilot.', 'The', 'most', 'interesting', 'points', 'of', \"Whedon's\", 'commentary', 'come', 'from', 'his', 'explanation', 'of', 'the', 'learning', 'curve', 'he', 'encountered', 'shifting', 'from', 'blockbuster', 'films', 'like', 'Toy', 'Story', 'to', 'a', 'much', 'lower-budget', 'television', 'series.', 'The', 'first', 'disc', 'also', 'includes', 'a', 'short', 'interview', 'with', 'David', 'Boreanaz', 'who', 'plays', 'the', 'role', 'of', 'Angel.', 'Other', 'features', 'include', 'the', 'script', 'for', 'the', 'pilot', 'episodes,', 'a', 'trailer,', 'a', 'large', 'photo', 'gallery', 'of', 'publicity', 'shots', 'and', 'in-depth', 'biographies', 'of', 'Whedon', 'and', 'several', 'of', 'the', \"show's\", 'stars,', 'including', 'Sarah', 'Michelle', 'Gellar,', 'Alyson', 'Hannigan', 'and', 'Nicholas', 'Brendon.']\n",
      "176\n"
     ]
    }
   ],
   "source": [
    "import numpy as np\n",
    "\n",
    "text_file = open(\"buffy.txt\", \"r\")\n",
    "lines = text_file.read().split()\n",
    "print(lines)\n",
    "print(len(lines))\n",
    "text_file.close()\n",
    "\n",
    "M = 72\n",
    "n_words = len(lines)"
   ]
  },
  {
   "cell_type": "code",
   "execution_count": 354,
   "metadata": {},
   "outputs": [],
   "source": [
    "# let's setup our cost function\n",
    "def penalty(i,k):\n",
    "    summed = 0\n",
    "    if (i == k):\n",
    "        summed = len(lines[i])\n",
    "    else:\n",
    "        for j in range (i,k+1):\n",
    "            summed += len(lines[j])\n",
    "      \n",
    "    if ((k == n_words-1) and ((k-i+summed) < M)):\n",
    "        return 0\n",
    "        \n",
    "    elif ((k-i+summed) > M):\n",
    "        return float(\"inf\")\n",
    "    \n",
    "    else:\n",
    "        return ((M-(k-i + summed))**3)"
   ]
  },
  {
   "cell_type": "code",
   "execution_count": 355,
   "metadata": {},
   "outputs": [],
   "source": [
    "D = np.empty([len(lines), len(lines)])\n",
    "B = np.empty([len(lines), len(lines)]) # x-coordinate next best cell (for line-break tracking)\n",
    "C = np.empty([len(lines), len(lines)]) # y-coordinate next best cell (for line-break tracking)"
   ]
  },
  {
   "cell_type": "code",
   "execution_count": 356,
   "metadata": {},
   "outputs": [],
   "source": [
    "for k in range((n_words-1), -1, -1):\n",
    "    for i in range (k,-1,-1):\n",
    "        if(k >= n_words-1):\n",
    "            D[i,k] = penalty(i,k)\n",
    "        else:\n",
    "            if (penalty(i,k) + D[k+1, k+1]) < D[i,k+1]:\n",
    "                B[i,k] = k+1\n",
    "                C[i,k] = k+1\n",
    "                D[i,k] = (penalty(i,k) + D[k+1, k+1])\n",
    "            else:\n",
    "                B[i,k] = i\n",
    "                C[i,k] = k+1\n",
    "                D[i,k] = D[i,k+1]"
   ]
  },
  {
   "cell_type": "code",
   "execution_count": 357,
   "metadata": {},
   "outputs": [],
   "source": [
    "breaks = np.zeros((n_words,1)) # bool for each word telling whether we break after it\n",
    "\n",
    "# initialize our location (treating as ordered pair)\n",
    "x = 0 \n",
    "y = 0\n",
    "for i in range (0,n_words):\n",
    "    x = int(x) # python-specific data cleaning\n",
    "    y = int(y) # python-specific data cleaning\n",
    "    if B[x,y] == C[x,y]:  ## i.e., we added a break (penalty(i,k) and called D[k+1, k+1])\n",
    "        breaks[i] = 1 ## break after this word\n",
    "    old_x = x\n",
    "    \n",
    "    ## get the ordered pair for our next location to check for line-break\n",
    "    x = B[x,y]\n",
    "    y = C[old_x,y]"
   ]
  },
  {
   "cell_type": "code",
   "execution_count": 358,
   "metadata": {},
   "outputs": [
    {
     "name": "stdout",
     "output_type": "stream",
     "text": [
      "Buffy the Vampire Slayer fans are sure to get their fix with the DVD \n",
      "release of the show's first season. The three-disc collection includes \n",
      "all 12 episodes as well as many extras. There is a collection of \n",
      "interviews by the show's creator Joss Whedon in which he explains \n",
      "his inspiration for the show as well as comments on the various cast \n",
      "members. Much of the same material is covered in more depth with \n",
      "Whedon's commentary track for the show's first two episodes that make \n",
      "up the Buffy the Vampire Slayer pilot. The most interesting points of \n",
      "Whedon's commentary come from his explanation of the learning curve \n",
      "he encountered shifting from blockbuster films like Toy Story to a \n",
      "much lower-budget television series. The first disc also includes a \n",
      "short interview with David Boreanaz who plays the role of Angel. Other \n",
      "features include the script for the pilot episodes, a trailer, a large \n",
      "photo gallery of publicity shots and in-depth biographies of Whedon and \n",
      "several of the show's stars, including Sarah Michelle Gellar, Alyson \n",
      "Hannigan and Nicholas Brendon. \n"
     ]
    }
   ],
   "source": [
    "for i in range (0,n_words):\n",
    "    print(lines[i], end = \" \")\n",
    "    if (breaks[i] == 1):\n",
    "        print(\"\\n\", end = \"\")"
   ]
  },
  {
   "cell_type": "code",
   "execution_count": 359,
   "metadata": {},
   "outputs": [
    {
     "data": {
      "text/plain": [
       "2104.0"
      ]
     },
     "execution_count": 359,
     "metadata": {},
     "output_type": "execute_result"
    }
   ],
   "source": [
    "D[0,0]"
   ]
  },
  {
   "cell_type": "code",
   "execution_count": null,
   "metadata": {},
   "outputs": [],
   "source": []
  }
 ],
 "metadata": {
  "kernelspec": {
   "display_name": "Python 3",
   "language": "python",
   "name": "python3"
  },
  "language_info": {
   "codemirror_mode": {
    "name": "ipython",
    "version": 3
   },
   "file_extension": ".py",
   "mimetype": "text/x-python",
   "name": "python",
   "nbconvert_exporter": "python",
   "pygments_lexer": "ipython3",
   "version": "3.7.3"
  }
 },
 "nbformat": 4,
 "nbformat_minor": 2
}
